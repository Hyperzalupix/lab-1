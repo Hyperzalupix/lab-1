{
 "cells": [
  {
   "cell_type": "markdown",
   "metadata": {
    "id": "M-DGa20PaHnu"
   },
   "source": [
    "#Задача 1\n",
    "Написать функцию на вход которой подается строка, состоящая из латинских букв.\n",
    "Функция должна вернуть количество гласных букв (a, e, i, o, u) в этой строке. Написать тесты для кода"
   ]
  },
  {
   "cell_type": "code",
   "execution_count": 3,
   "metadata": {
    "id": "XvX8X_JJ6PCb"
   },
   "outputs": [
    {
     "name": "stdout",
     "output_type": "stream",
     "text": [
      "6\n"
     ]
    }
   ],
   "source": [
    "def count(s):\n",
    "     a=0\n",
    "     for b in s:\n",
    "         if b.lower() in 'aeiou':\n",
    "             a += 1\n",
    "     return a\n",
    "print(count('aaoodkjeri'))"
   ]
  },
  {
   "cell_type": "markdown",
   "metadata": {
    "id": "t2ClV_Y0bbr6"
   },
   "source": [
    "# Задача 2\n",
    "Написать функцию на вход, которой подается строка. Функция должна вернуть true, если\n",
    "каждый символ в строке встречается только 1 раз, иначе должна вернуть false. Написать тесты для кода"
   ]
  },
  {
   "cell_type": "code",
   "execution_count": 1,
   "metadata": {
    "id": "FppbECao6VIz"
   },
   "outputs": [
    {
     "name": "stdout",
     "output_type": "stream",
     "text": [
      "False\n"
     ]
    }
   ],
   "source": [
    "def tekst(s):\n",
    "    pass\n",
    "def tekst(s):\n",
    "    return len(set(s)) == len(s)\n",
    "print(tekst('ffinny'))"
   ]
  },
  {
   "cell_type": "markdown",
   "metadata": {
    "id": "udRiIK1cdt6E"
   },
   "source": [
    "# Задача 3\n",
    "Написать функцию, которая принимает положительное число и возвращает количество\n",
    "бит равных 1 в этом числе. Написать тесты для кода"
   ]
  },
  {
   "cell_type": "code",
   "execution_count": 7,
   "metadata": {
    "id": "6tkfDJRz6dp_"
   },
   "outputs": [
    {
     "name": "stdout",
     "output_type": "stream",
     "text": [
      "0\n",
      "1\n",
      "1\n",
      "2\n",
      "3\n"
     ]
    }
   ],
   "source": [
    "def bit(n):\n",
    "    a = 0\n",
    "    while n > 0:\n",
    "        a += n & 1\n",
    "        n >>= 1\n",
    "    return a\n",
    "print(bit(0))\n",
    "print(bit(1))\n",
    "print(bit(2))\n",
    "print(bit(10))\n",
    "print(bit(100))"
   ]
  },
  {
   "cell_type": "markdown",
   "metadata": {
    "id": "26dDUz-Ae17N"
   },
   "source": [
    "# Задача 4\n",
    "Написать функцию, которая принимает положительное число. Функция должна вернуть то,\n",
    "сколько раз необходимо перемножать цифры числа или результат перемножения, чтобы\n",
    "получилось число состоящее из одной цифры.\n",
    "Например, для входного числа:\n",
    "· 39 функция должна вернуть 3, так как 3*9=27 => 2*7=14 => 1*4=4\n",
    "· 4 функция должна вернуть 0, так как число уже состоит из одной цифры\n",
    "· 999 функция должна вернуть 4, так как 9*9*9=729 => 7*2*9=126 => 1*2*6=12 =>\n",
    "1*2=2. Написать тесты для кода"
   ]
  },
  {
   "cell_type": "code",
   "execution_count": 8,
   "metadata": {
    "id": "BH1A_Mgi6i4G"
   },
   "outputs": [
    {
     "name": "stdout",
     "output_type": "stream",
     "text": [
      "3\n",
      "0\n",
      "4\n"
     ]
    }
   ],
   "source": [
    "def aaa(n):\n",
    "    c = 0\n",
    "    while n >= 10:\n",
    "        p = 1\n",
    "        while n > 0:\n",
    "            p *= n % 10\n",
    "            n //= 10\n",
    "        n = p\n",
    "        c += 1\n",
    "    return c\n",
    "print(aaa(39))\n",
    "print(aaa(4))\n",
    "print(aaa(999))"
   ]
  },
  {
   "cell_type": "markdown",
   "metadata": {
    "id": "0nS-kIa8g8vd"
   },
   "source": [
    "# Задача 5\n",
    "Написать функцию, которая принимает два целочисленных вектора одинаковой длины и\n",
    "возвращает среднеквадратическое отклонение двух векторов. Написать тесты для кода"
   ]
  },
  {
   "cell_type": "code",
   "execution_count": 2,
   "metadata": {
    "id": "8iphx4LM6xbx"
   },
   "outputs": [
    {
     "name": "stdout",
     "output_type": "stream",
     "text": [
      "27\n"
     ]
    }
   ],
   "source": [
    "import math\n",
    "def kv(v1, v2):\n",
    "    if len(v1) != len(v2):\n",
    "        raise Error(\"Векторы не одинаковой длины\")\n",
    "    n = len(v1)\n",
    "    sum = 0\n",
    "    for i in range(n):\n",
    "        d = v1[i] - v2[i]\n",
    "        sum += d ** 2\n",
    "    return sum\n",
    "print(kv([1,2,3], [4,5,6]))"
   ]
  },
  {
   "cell_type": "markdown",
   "metadata": {
    "id": "vpIPKL439zkw"
   },
   "source": [
    "# Задача 6\n",
    "Написать функцию, принимающая целое положительное число. Функция должна вернуть\n",
    "строку вида “(n1**p1)(n2**p2)…(nk**pk)” представляющая разложение числа на простые\n",
    "множители (если pi == 1, то выводить только ni).\n",
    "Например, для числа 86240 функция должна вернуть “(2**5)(5)(7**2)(11)”. Написать тесты для кода"
   ]
  },
  {
   "cell_type": "code",
   "execution_count": 3,
   "metadata": {
    "id": "pFebmcZk94Jw"
   },
   "outputs": [
    {
     "name": "stdout",
     "output_type": "stream",
     "text": [
      "(25)(25)(25)(25)(25)(5)(72)(72)(11)\n"
     ]
    }
   ],
   "source": [
    "import math\n",
    "def prime_factors(n):\n",
    "    factors = []\n",
    "    while n % 2 == 0:\n",
    "        factors.append(2)\n",
    "        n = n // 2\n",
    "    for i in range(3, int(math.sqrt(n)) + 1, 2):\n",
    "        while n % i == 0:\n",
    "            factors.append(i)\n",
    "            n = n // i\n",
    "    if n > 2:\n",
    "        factors.append(n)\n",
    "    result = \"\"\n",
    "    for factor in factors:\n",
    "        power = factors.count(factor)\n",
    "        if power == 1:\n",
    "            result += f\"({factor})\"\n",
    "        else:\n",
    "            result += f\"({factor}{power})\"\n",
    "    return result\n",
    "print(prime_factors(86240))"
   ]
  },
  {
   "cell_type": "markdown",
   "metadata": {
    "id": "ps2s0BudX7A2"
   },
   "source": [
    "# Задача 7\n",
    "Написать функцию, принимающая целое число n, задающее количество кубиков. Функция\n",
    "должна определить, можно ли из данного кол-ва кубиков построить пирамиду, то есть\n",
    "можно ли представить число n как 1^2+2^2+3^2+…+k^2. Если можно, то функция должна\n",
    "вернуть k, иначе строку “It is impossible”. Написать тесты для кода"
   ]
  },
  {
   "cell_type": "code",
   "execution_count": 12,
   "metadata": {
    "id": "3YPjEXxhX_YT"
   },
   "outputs": [
    {
     "name": "stdout",
     "output_type": "stream",
     "text": [
      "3\n"
     ]
    }
   ],
   "source": [
    "def b(n):\n",
    "    #сумма квадратов\n",
    "    s = 0\n",
    "    #переменная, отражающей колличество кубиков\n",
    "    k = 1\n",
    "    \n",
    "    while s < n:\n",
    "        s += k ** 2\n",
    "        k += 1\n",
    "        \n",
    "    if s == n:\n",
    "        return k - 1\n",
    "    else:\n",
    "        return \"it is impossible\"\n",
    "    \n",
    "print(b(14))"
   ]
  },
  {
   "cell_type": "markdown",
   "metadata": {
    "id": "KeKgmIdAQMEJ"
   },
   "source": [
    "# Задача 8\n",
    "Функция принимает на вход положительное число и определяет является ли оно сбалансированным, т.е. сумма цифр до средних равна сумме цифр после. Средними в случае нечетного числа цифр считать одну цифру, в случае четного - две средних. Написать тесты для кода"
   ]
  },
  {
   "cell_type": "code",
   "execution_count": 5,
   "metadata": {
    "id": "gMAAqtqlQrZt"
   },
   "outputs": [
    {
     "name": "stdout",
     "output_type": "stream",
     "text": [
      "True\n"
     ]
    }
   ],
   "source": [
    "def ibn(n):\n",
    "    # Преобразуем число в строку\n",
    "    num_str = str(n)\n",
    "    length = len(num_str)\n",
    "    # Проверяем, является ли число четным\n",
    "    is_even = length % 2 == 0\n",
    "    # Вычисляем индексы цифр \"до\" и \"после\" в строке\n",
    "    if is_even:\n",
    "        mid1 = length // 2 - 1\n",
    "        mid2 = length // 2\n",
    "    else:\n",
    "        mid1 = mid2 = length // 2\n",
    "    # Суммируем цифры до и после\n",
    "    before = sum(map(int, num_str[:mid1]))\n",
    "    after = sum(map(int, num_str[mid2+1:]))\n",
    "    # Результат сравнения сумм\n",
    "    return before == after\n",
    "print(ibn(1231))"
   ]
  },
  {
   "cell_type": "code",
   "execution_count": null,
   "metadata": {},
   "outputs": [],
   "source": []
  }
 ],
 "metadata": {
  "colab": {
   "provenance": []
  },
  "kernelspec": {
   "display_name": "Python 3 (ipykernel)",
   "language": "python",
   "name": "python3"
  },
  "language_info": {
   "codemirror_mode": {
    "name": "ipython",
    "version": 3
   },
   "file_extension": ".py",
   "mimetype": "text/x-python",
   "name": "python",
   "nbconvert_exporter": "python",
   "pygments_lexer": "ipython3",
   "version": "3.11.5"
  }
 },
 "nbformat": 4,
 "nbformat_minor": 4
}
